{
 "cells": [
  {
   "cell_type": "code",
   "execution_count": 5,
   "id": "fdddf589",
   "metadata": {},
   "outputs": [
    {
     "name": "stdout",
     "output_type": "stream",
     "text": [
      "Derived features added and dataset saved as: Dataset_With_Derived_Features.csv\n"
     ]
    }
   ],
   "source": [
    "import pandas as pd\n",
    "import numpy as np\n",
    "\n",
    "# Load the dataset\n",
    "file_path = 'LEAD TIME.csv'\n",
    "dataset = pd.read_csv(file_path)\n",
    "\n",
    "# Encode categorical variables if not already encoded\n",
    "from sklearn.preprocessing import LabelEncoder\n",
    "le = LabelEncoder()\n",
    "for column in ['Shipping Mode', 'Stock Availability', 'Packaging Complexity',\n",
    "               'Shipping Zone', 'Order Priority', 'Order Size Category', 'Customization Type']:\n",
    "    dataset[column] = le.fit_transform(dataset[column])\n",
    "\n",
    "# Derived Features\n",
    "# 1. Order Complexity Score: A weighted sum of customization, production stages, and labor hours\n",
    "dataset['Order Complexity Score'] = (\n",
    "    dataset['Customization Level'] * 2 +\n",
    "    dataset['Production Stages Count'] +\n",
    "    dataset['Labor Hours Required'] * 0.5\n",
    ")\n",
    "\n",
    "# 2. Distance-Time Ratio: Distance to Delivery / Process Time\n",
    "dataset['Distance-Time Ratio'] = dataset['Distance to Delivery'] / (dataset['Process Time (days)'] + 1)\n",
    "\n",
    "# 3. Supplier Delay Impact: Adjust lead time by considering supplier delays\n",
    "dataset['Supplier Delay Impact'] = dataset['Lead Time'] * (1 + dataset['Previous Supplier Delays (%)'] / 100)\n",
    "\n",
    "# 4. Shipping Mode Impact: Assign weights to shipping modes (based on domain knowledge)\n",
    "shipping_mode_weights = {'Ground': 1, 'Sea': 2, 'Air': 0.5}  # Example weights\n",
    "dataset['Shipping Mode Weight'] = dataset['Shipping Mode'].map(lambda x: shipping_mode_weights.get(x, 1))\n",
    "\n",
    "# 5. Priority-Customization Interaction: Interaction between order priority and customization level\n",
    "dataset['Priority-Customization Interaction'] = dataset['Order Priority'] * dataset['Customization Level']\n",
    "\n",
    "# Save the enhanced dataset for further analysis\n",
    "enhanced_file_path = 'Dataset_With_Derived_Features.csv'\n",
    "dataset.to_csv(enhanced_file_path, index=False)\n",
    "\n",
    "print(\"Derived features added and dataset saved as:\", enhanced_file_path)\n"
   ]
  },
  {
   "cell_type": "code",
   "execution_count": 6,
   "id": "16ea9c0d",
   "metadata": {},
   "outputs": [],
   "source": [
    "import pandas as pd\n",
    "from sklearn.model_selection import train_test_split\n",
    "from sklearn.ensemble import RandomForestClassifier, RandomForestRegressor\n",
    "from sklearn.metrics import accuracy_score, mean_absolute_error\n",
    "import pickle\n",
    "\n",
    "# Load enhanced dataset\n",
    "file_path = 'Dataset_With_Derived_Features.csv'\n",
    "dataset = pd.read_csv(file_path)"
   ]
  },
  {
   "cell_type": "code",
   "execution_count": 7,
   "id": "c7bab047",
   "metadata": {},
   "outputs": [
    {
     "name": "stdout",
     "output_type": "stream",
     "text": [
      "Order Complexity Predictor Accuracy: 1.0\n"
     ]
    }
   ],
   "source": [
    "# Order Complexity Predictor\n",
    "complexity_target = (dataset['Order Type'] == 'Complex').astype(int)\n",
    "complexity_features = dataset[['Order Size', 'Customization Level', 'Supplier Rating',\n",
    "                                'Production Stages Count', 'Labor Hours Required',\n",
    "                                'Order Complexity Score', 'Distance-Time Ratio',\n",
    "                                'Priority-Customization Interaction']]\n",
    "\n",
    "X_train_c, X_test_c, y_train_c, y_test_c = train_test_split(complexity_features, complexity_target, test_size=0.2, random_state=42)\n",
    "complexity_model = RandomForestClassifier(random_state=42)\n",
    "complexity_model.fit(X_train_c, y_train_c)\n",
    "complexity_predictions = complexity_model.predict(X_test_c)\n",
    "complexity_accuracy = accuracy_score(y_test_c, complexity_predictions)\n",
    "print(\"Order Complexity Predictor Accuracy:\", complexity_accuracy)\n",
    "\n",
    "# Save the complexity model\n",
    "with open('order_complexity_model.pkl', 'wb') as f:\n",
    "    pickle.dump(complexity_model, f)"
   ]
  },
  {
   "cell_type": "code",
   "execution_count": 8,
   "id": "b787c2d2",
   "metadata": {},
   "outputs": [
    {
     "name": "stdout",
     "output_type": "stream",
     "text": [
      "Lead Time Predictor MAE: 2.3599\n"
     ]
    }
   ],
   "source": [
    "# Lead Time Predictor\n",
    "lead_time_target = dataset['Lead Time']\n",
    "lead_time_features = dataset[['Order Size', 'Customization Level', 'Supplier Rating', 'Process Time (days)',\n",
    "                               'Shipping Mode Weight', 'Distance to Delivery', 'Stock Availability',\n",
    "                               'Production Stages Count', 'Labor Hours Required', 'Order Complexity Score',\n",
    "                               'Supplier Delay Impact', 'Priority-Customization Interaction']]\n",
    "\n",
    "X_train_lt, X_test_lt, y_train_lt, y_test_lt = train_test_split(lead_time_features, lead_time_target, test_size=0.2, random_state=42)\n",
    "lead_time_model = RandomForestRegressor(random_state=42)\n",
    "lead_time_model.fit(X_train_lt, y_train_lt)\n",
    "lead_time_predictions = lead_time_model.predict(X_test_lt)\n",
    "lead_time_mae = mean_absolute_error(y_test_lt, lead_time_predictions)\n",
    "print(\"Lead Time Predictor MAE:\", lead_time_mae)\n",
    "\n",
    "# Save the lead time model\n",
    "with open('lead_time_model.pkl', 'wb') as f:\n",
    "    pickle.dump(lead_time_model, f)"
   ]
  },
  {
   "cell_type": "code",
   "execution_count": 9,
   "id": "d5bdbc39",
   "metadata": {},
   "outputs": [
    {
     "name": "stdout",
     "output_type": "stream",
     "text": [
      "Correlation between predicted complexity and lead time: 0.05119404139167283\n"
     ]
    }
   ],
   "source": [
    "# Analyze interaction\n",
    "dataset['Predicted Complexity'] = complexity_model.predict(complexity_features)\n",
    "interaction_features = dataset[['Predicted Complexity', 'Lead Time']]\n",
    "correlation = interaction_features.corr()['Lead Time']['Predicted Complexity']\n",
    "print(\"Correlation between predicted complexity and lead time:\", correlation)"
   ]
  },
  {
   "cell_type": "code",
   "execution_count": null,
   "id": "bddd31d9",
   "metadata": {},
   "outputs": [],
   "source": []
  }
 ],
 "metadata": {
  "kernelspec": {
   "display_name": "Python 3 (ipykernel)",
   "language": "python",
   "name": "python3"
  },
  "language_info": {
   "codemirror_mode": {
    "name": "ipython",
    "version": 3
   },
   "file_extension": ".py",
   "mimetype": "text/x-python",
   "name": "python",
   "nbconvert_exporter": "python",
   "pygments_lexer": "ipython3",
   "version": "3.11.7"
  }
 },
 "nbformat": 4,
 "nbformat_minor": 5
}
